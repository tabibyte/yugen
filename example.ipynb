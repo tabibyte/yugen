{
 "cells": [
  {
   "cell_type": "code",
   "execution_count": 1,
   "metadata": {},
   "outputs": [],
   "source": [
    "import pandas as pd\n",
    "from sklearn.model_selection import train_test_split\n",
    "from sklearn.linear_model import LinearRegression\n",
    "from sklearn.metrics import r2_score, mean_squared_error, mean_absolute_error, precision_score, recall_score"
   ]
  },
  {
   "cell_type": "code",
   "execution_count": 2,
   "metadata": {},
   "outputs": [],
   "source": [
    "# Load data\n",
    "\n",
    "file_path = 'instance/avocado.csv'\n",
    "df = pd.read_csv(file_path)"
   ]
  },
  {
   "cell_type": "code",
   "execution_count": 3,
   "metadata": {},
   "outputs": [
    {
     "data": {
      "text/html": [
       "<div>\n",
       "<style scoped>\n",
       "    .dataframe tbody tr th:only-of-type {\n",
       "        vertical-align: middle;\n",
       "    }\n",
       "\n",
       "    .dataframe tbody tr th {\n",
       "        vertical-align: top;\n",
       "    }\n",
       "\n",
       "    .dataframe thead th {\n",
       "        text-align: right;\n",
       "    }\n",
       "</style>\n",
       "<table border=\"1\" class=\"dataframe\">\n",
       "  <thead>\n",
       "    <tr style=\"text-align: right;\">\n",
       "      <th></th>\n",
       "      <th>Unnamed: 0</th>\n",
       "      <th>Date</th>\n",
       "      <th>AveragePrice</th>\n",
       "      <th>Total Volume</th>\n",
       "      <th>4046</th>\n",
       "      <th>4225</th>\n",
       "      <th>4770</th>\n",
       "      <th>Total Bags</th>\n",
       "      <th>Small Bags</th>\n",
       "      <th>Large Bags</th>\n",
       "      <th>XLarge Bags</th>\n",
       "      <th>type</th>\n",
       "      <th>year</th>\n",
       "      <th>region</th>\n",
       "    </tr>\n",
       "  </thead>\n",
       "  <tbody>\n",
       "    <tr>\n",
       "      <th>0</th>\n",
       "      <td>0</td>\n",
       "      <td>2015-12-27</td>\n",
       "      <td>1.33</td>\n",
       "      <td>64236.62</td>\n",
       "      <td>1036.74</td>\n",
       "      <td>54454.85</td>\n",
       "      <td>48.16</td>\n",
       "      <td>8696.87</td>\n",
       "      <td>8603.62</td>\n",
       "      <td>93.25</td>\n",
       "      <td>0.0</td>\n",
       "      <td>conventional</td>\n",
       "      <td>2015</td>\n",
       "      <td>Albany</td>\n",
       "    </tr>\n",
       "    <tr>\n",
       "      <th>1</th>\n",
       "      <td>1</td>\n",
       "      <td>2015-12-20</td>\n",
       "      <td>1.35</td>\n",
       "      <td>54876.98</td>\n",
       "      <td>674.28</td>\n",
       "      <td>44638.81</td>\n",
       "      <td>58.33</td>\n",
       "      <td>9505.56</td>\n",
       "      <td>9408.07</td>\n",
       "      <td>97.49</td>\n",
       "      <td>0.0</td>\n",
       "      <td>conventional</td>\n",
       "      <td>2015</td>\n",
       "      <td>Albany</td>\n",
       "    </tr>\n",
       "    <tr>\n",
       "      <th>2</th>\n",
       "      <td>2</td>\n",
       "      <td>2015-12-13</td>\n",
       "      <td>0.93</td>\n",
       "      <td>118220.22</td>\n",
       "      <td>794.70</td>\n",
       "      <td>109149.67</td>\n",
       "      <td>130.50</td>\n",
       "      <td>8145.35</td>\n",
       "      <td>8042.21</td>\n",
       "      <td>103.14</td>\n",
       "      <td>0.0</td>\n",
       "      <td>conventional</td>\n",
       "      <td>2015</td>\n",
       "      <td>Albany</td>\n",
       "    </tr>\n",
       "    <tr>\n",
       "      <th>3</th>\n",
       "      <td>3</td>\n",
       "      <td>2015-12-06</td>\n",
       "      <td>1.08</td>\n",
       "      <td>78992.15</td>\n",
       "      <td>1132.00</td>\n",
       "      <td>71976.41</td>\n",
       "      <td>72.58</td>\n",
       "      <td>5811.16</td>\n",
       "      <td>5677.40</td>\n",
       "      <td>133.76</td>\n",
       "      <td>0.0</td>\n",
       "      <td>conventional</td>\n",
       "      <td>2015</td>\n",
       "      <td>Albany</td>\n",
       "    </tr>\n",
       "    <tr>\n",
       "      <th>4</th>\n",
       "      <td>4</td>\n",
       "      <td>2015-11-29</td>\n",
       "      <td>1.28</td>\n",
       "      <td>51039.60</td>\n",
       "      <td>941.48</td>\n",
       "      <td>43838.39</td>\n",
       "      <td>75.78</td>\n",
       "      <td>6183.95</td>\n",
       "      <td>5986.26</td>\n",
       "      <td>197.69</td>\n",
       "      <td>0.0</td>\n",
       "      <td>conventional</td>\n",
       "      <td>2015</td>\n",
       "      <td>Albany</td>\n",
       "    </tr>\n",
       "  </tbody>\n",
       "</table>\n",
       "</div>"
      ],
      "text/plain": [
       "   Unnamed: 0        Date  AveragePrice  Total Volume     4046       4225  \\\n",
       "0           0  2015-12-27          1.33      64236.62  1036.74   54454.85   \n",
       "1           1  2015-12-20          1.35      54876.98   674.28   44638.81   \n",
       "2           2  2015-12-13          0.93     118220.22   794.70  109149.67   \n",
       "3           3  2015-12-06          1.08      78992.15  1132.00   71976.41   \n",
       "4           4  2015-11-29          1.28      51039.60   941.48   43838.39   \n",
       "\n",
       "     4770  Total Bags  Small Bags  Large Bags  XLarge Bags          type  \\\n",
       "0   48.16     8696.87     8603.62       93.25          0.0  conventional   \n",
       "1   58.33     9505.56     9408.07       97.49          0.0  conventional   \n",
       "2  130.50     8145.35     8042.21      103.14          0.0  conventional   \n",
       "3   72.58     5811.16     5677.40      133.76          0.0  conventional   \n",
       "4   75.78     6183.95     5986.26      197.69          0.0  conventional   \n",
       "\n",
       "   year  region  \n",
       "0  2015  Albany  \n",
       "1  2015  Albany  \n",
       "2  2015  Albany  \n",
       "3  2015  Albany  \n",
       "4  2015  Albany  "
      ]
     },
     "execution_count": 3,
     "metadata": {},
     "output_type": "execute_result"
    }
   ],
   "source": [
    "df.head()"
   ]
  },
  {
   "cell_type": "code",
   "execution_count": 4,
   "metadata": {},
   "outputs": [
    {
     "name": "stdout",
     "output_type": "stream",
     "text": [
      "Data Information:\n",
      "Shape: (18249, 14)\n",
      "Columns: ['Unnamed: 0', 'Date', 'AveragePrice', 'Total Volume', '4046', '4225', '4770', 'Total Bags', 'Small Bags', 'Large Bags', 'XLarge Bags', 'type', 'year', 'region']\n",
      "Memory Usage: 2044020 bytes\n",
      "Missing Values:\n",
      "Unnamed: 0      0\n",
      "Date            0\n",
      "AveragePrice    0\n",
      "Total Volume    0\n",
      "4046            0\n",
      "4225            0\n",
      "4770            0\n",
      "Total Bags      0\n",
      "Small Bags      0\n",
      "Large Bags      0\n",
      "XLarge Bags     0\n",
      "type            0\n",
      "year            0\n",
      "region          0\n",
      "dtype: int64\n"
     ]
    }
   ],
   "source": [
    "# Display basic information about the data\n",
    "\n",
    "print(\"Data Information:\")\n",
    "print(f\"Shape: {df.shape}\")\n",
    "print(f\"Columns: {df.columns.tolist()}\")\n",
    "print(f\"Memory Usage: {df.memory_usage().sum()} bytes\")\n",
    "print(f\"Missing Values:\\n{df.isnull().sum()}\")"
   ]
  },
  {
   "cell_type": "code",
   "execution_count": 10,
   "metadata": {
    "vscode": {
     "languageId": "markdown"
    }
   },
   "outputs": [
    {
     "name": "stdout",
     "output_type": "stream",
     "text": [
      "Data Types of Each Column:\n",
      "Unnamed: 0        int64\n",
      "Date             object\n",
      "AveragePrice    float64\n",
      "Total Volume    float64\n",
      "4046            float64\n",
      "4225            float64\n",
      "4770            float64\n",
      "Total Bags      float64\n",
      "Small Bags      float64\n",
      "Large Bags      float64\n",
      "XLarge Bags     float64\n",
      "type             object\n",
      "year              int64\n",
      "region           object\n",
      "dtype: object\n",
      "\n",
      "Count of Each Data Type:\n",
      "float64    9\n",
      "object     3\n",
      "int64      2\n",
      "Name: count, dtype: int64\n"
     ]
    }
   ],
   "source": [
    "# Display data types of each column and their counts\n",
    "data_types = df.dtypes\n",
    "data_type_counts = data_types.value_counts()\n",
    "\n",
    "print(\"Data Types of Each Column:\")\n",
    "print(data_types)\n",
    "print(\"\\nCount of Each Data Type:\")\n",
    "print(data_type_counts)"
   ]
  },
  {
   "cell_type": "code",
   "execution_count": 11,
   "metadata": {},
   "outputs": [
    {
     "name": "stdout",
     "output_type": "stream",
     "text": [
      "Missing Values in Each Column:\n",
      "Unnamed: 0      0\n",
      "Date            0\n",
      "AveragePrice    0\n",
      "Total Volume    0\n",
      "4046            0\n",
      "4225            0\n",
      "4770            0\n",
      "Total Bags      0\n",
      "Small Bags      0\n",
      "Large Bags      0\n",
      "XLarge Bags     0\n",
      "type            0\n",
      "year            0\n",
      "region          0\n",
      "dtype: int64\n"
     ]
    }
   ],
   "source": [
    "missing_values = df.isnull().sum()\n",
    "print(\"Missing Values in Each Column:\")\n",
    "print(missing_values)"
   ]
  },
  {
   "cell_type": "code",
   "execution_count": 12,
   "metadata": {},
   "outputs": [
    {
     "name": "stdout",
     "output_type": "stream",
     "text": [
      "Numerical Summary:\n",
      "         Unnamed: 0  AveragePrice  Total Volume          4046          4225  \\\n",
      "count  18249.000000  18249.000000  1.824900e+04  1.824900e+04  1.824900e+04   \n",
      "mean      24.232232      1.405978  8.506440e+05  2.930084e+05  2.951546e+05   \n",
      "std       15.481045      0.402677  3.453545e+06  1.264989e+06  1.204120e+06   \n",
      "min        0.000000      0.440000  8.456000e+01  0.000000e+00  0.000000e+00   \n",
      "25%       10.000000      1.100000  1.083858e+04  8.540700e+02  3.008780e+03   \n",
      "50%       24.000000      1.370000  1.073768e+05  8.645300e+03  2.906102e+04   \n",
      "75%       38.000000      1.660000  4.329623e+05  1.110202e+05  1.502069e+05   \n",
      "max       52.000000      3.250000  6.250565e+07  2.274362e+07  2.047057e+07   \n",
      "\n",
      "               4770    Total Bags    Small Bags    Large Bags    XLarge Bags  \\\n",
      "count  1.824900e+04  1.824900e+04  1.824900e+04  1.824900e+04   18249.000000   \n",
      "mean   2.283974e+04  2.396392e+05  1.821947e+05  5.433809e+04    3106.426507   \n",
      "std    1.074641e+05  9.862424e+05  7.461785e+05  2.439660e+05   17692.894652   \n",
      "min    0.000000e+00  0.000000e+00  0.000000e+00  0.000000e+00       0.000000   \n",
      "25%    0.000000e+00  5.088640e+03  2.849420e+03  1.274700e+02       0.000000   \n",
      "50%    1.849900e+02  3.974383e+04  2.636282e+04  2.647710e+03       0.000000   \n",
      "75%    6.243420e+03  1.107834e+05  8.333767e+04  2.202925e+04     132.500000   \n",
      "max    2.546439e+06  1.937313e+07  1.338459e+07  5.719097e+06  551693.650000   \n",
      "\n",
      "               year  \n",
      "count  18249.000000  \n",
      "mean    2016.147899  \n",
      "std        0.939938  \n",
      "min     2015.000000  \n",
      "25%     2015.000000  \n",
      "50%     2016.000000  \n",
      "75%     2017.000000  \n",
      "max     2018.000000  \n"
     ]
    }
   ],
   "source": [
    "# Numerical summary\n",
    "numerical_summary = df.describe()\n",
    "print(\"Numerical Summary:\")\n",
    "print(numerical_summary)"
   ]
  },
  {
   "cell_type": "code",
   "execution_count": 13,
   "metadata": {},
   "outputs": [
    {
     "name": "stdout",
     "output_type": "stream",
     "text": [
      "\n",
      "Categorical Summary:\n",
      "              Date          type  region\n",
      "count        18249         18249   18249\n",
      "unique         169             2      54\n",
      "top     2015-12-27  conventional  Albany\n",
      "freq           108          9126     338\n"
     ]
    }
   ],
   "source": [
    "# Categorical summary\n",
    "categorical_columns = df.select_dtypes(include=['object']).columns\n",
    "categorical_summary = df[categorical_columns].describe()\n",
    "print(\"\\nCategorical Summary:\")\n",
    "print(categorical_summary)"
   ]
  },
  {
   "cell_type": "code",
   "execution_count": 15,
   "metadata": {},
   "outputs": [
    {
     "name": "stdout",
     "output_type": "stream",
     "text": [
      "Correlation Matrix:\n",
      "              Unnamed: 0  AveragePrice  Total Volume      4046      4225  \\\n",
      "Unnamed: 0      1.000000     -0.133008      0.014035  0.017628  0.019829   \n",
      "AveragePrice   -0.133008      1.000000     -0.192752 -0.208317 -0.172928   \n",
      "Total Volume    0.014035     -0.192752      1.000000  0.977863  0.974181   \n",
      "4046            0.017628     -0.208317      0.977863  1.000000  0.926110   \n",
      "4225            0.019829     -0.172928      0.974181  0.926110  1.000000   \n",
      "4770            0.041752     -0.179446      0.872202  0.833389  0.887855   \n",
      "Total Bags     -0.002219     -0.177088      0.963047  0.920057  0.905787   \n",
      "Small Bags      0.000347     -0.174730      0.967238  0.925280  0.916031   \n",
      "Large Bags     -0.009196     -0.172940      0.880640  0.838645  0.810015   \n",
      "XLarge Bags    -0.011546     -0.117592      0.747157  0.699377  0.688809   \n",
      "year           -0.171667      0.093197      0.017193  0.003353 -0.009559   \n",
      "\n",
      "                  4770  Total Bags  Small Bags  Large Bags  XLarge Bags  \\\n",
      "Unnamed: 0    0.041752   -0.002219    0.000347   -0.009196    -0.011546   \n",
      "AveragePrice -0.179446   -0.177088   -0.174730   -0.172940    -0.117592   \n",
      "Total Volume  0.872202    0.963047    0.967238    0.880640     0.747157   \n",
      "4046          0.833389    0.920057    0.925280    0.838645     0.699377   \n",
      "4225          0.887855    0.905787    0.916031    0.810015     0.688809   \n",
      "4770          1.000000    0.792314    0.802733    0.698471     0.679861   \n",
      "Total Bags    0.792314    1.000000    0.994335    0.943009     0.804233   \n",
      "Small Bags    0.802733    0.994335    1.000000    0.902589     0.806845   \n",
      "Large Bags    0.698471    0.943009    0.902589    1.000000     0.710858   \n",
      "XLarge Bags   0.679861    0.804233    0.806845    0.710858     1.000000   \n",
      "year         -0.036531    0.071552    0.063915    0.087891     0.081033   \n",
      "\n",
      "                  year  \n",
      "Unnamed: 0   -0.171667  \n",
      "AveragePrice  0.093197  \n",
      "Total Volume  0.017193  \n",
      "4046          0.003353  \n",
      "4225         -0.009559  \n",
      "4770         -0.036531  \n",
      "Total Bags    0.071552  \n",
      "Small Bags    0.063915  \n",
      "Large Bags    0.087891  \n",
      "XLarge Bags   0.081033  \n",
      "year          1.000000  \n"
     ]
    }
   ],
   "source": [
    "# Select numerical columns\n",
    "numerical_columns = df.select_dtypes(include=['float64', 'int64']).columns\n",
    "\n",
    "# Compute the correlation matrix using only numerical columns\n",
    "correlation_matrix = df[numerical_columns].corr()\n",
    "\n",
    "# Display the correlation matrix\n",
    "print(\"Correlation Matrix:\")\n",
    "print(correlation_matrix)"
   ]
  },
  {
   "cell_type": "code",
   "execution_count": 6,
   "metadata": {},
   "outputs": [],
   "source": [
    "# Clean data\n",
    "\n",
    "df = df.dropna()  # Drop rows with missing values\n",
    "df = df.drop_duplicates()  # Drop duplicate rows"
   ]
  },
  {
   "cell_type": "code",
   "execution_count": 18,
   "metadata": {},
   "outputs": [
    {
     "name": "stdout",
     "output_type": "stream",
     "text": [
      "\n",
      "Summary Statistics:\n",
      "         Unnamed: 0                           Date  AveragePrice  \\\n",
      "count  18249.000000                          18249  18249.000000   \n",
      "mean      24.232232  2016-08-13 23:30:43.498273792      1.405978   \n",
      "min        0.000000            2015-01-04 00:00:00      0.440000   \n",
      "25%       10.000000            2015-10-25 00:00:00      1.100000   \n",
      "50%       24.000000            2016-08-14 00:00:00      1.370000   \n",
      "75%       38.000000            2017-06-04 00:00:00      1.660000   \n",
      "max       52.000000            2018-03-25 00:00:00      3.250000   \n",
      "std       15.481045                            NaN      0.402677   \n",
      "\n",
      "       Total Volume          4046          4225          4770    Total Bags  \\\n",
      "count  1.824900e+04  1.824900e+04  1.824900e+04  1.824900e+04  1.824900e+04   \n",
      "mean   8.506440e+05  2.930084e+05  2.951546e+05  2.283974e+04  2.396392e+05   \n",
      "min    8.456000e+01  0.000000e+00  0.000000e+00  0.000000e+00  0.000000e+00   \n",
      "25%    1.083858e+04  8.540700e+02  3.008780e+03  0.000000e+00  5.088640e+03   \n",
      "50%    1.073768e+05  8.645300e+03  2.906102e+04  1.849900e+02  3.974383e+04   \n",
      "75%    4.329623e+05  1.110202e+05  1.502069e+05  6.243420e+03  1.107834e+05   \n",
      "max    6.250565e+07  2.274362e+07  2.047057e+07  2.546439e+06  1.937313e+07   \n",
      "std    3.453545e+06  1.264989e+06  1.204120e+06  1.074641e+05  9.862424e+05   \n",
      "\n",
      "         Small Bags    Large Bags    XLarge Bags          year  \n",
      "count  1.824900e+04  1.824900e+04   18249.000000  18249.000000  \n",
      "mean   1.821947e+05  5.433809e+04    3106.426507   2016.147899  \n",
      "min    0.000000e+00  0.000000e+00       0.000000   2015.000000  \n",
      "25%    2.849420e+03  1.274700e+02       0.000000   2015.000000  \n",
      "50%    2.636282e+04  2.647710e+03       0.000000   2016.000000  \n",
      "75%    8.333767e+04  2.202925e+04     132.500000   2017.000000  \n",
      "max    1.338459e+07  5.719097e+06  551693.650000   2018.000000  \n",
      "std    7.461785e+05  2.439660e+05   17692.894652      0.939938  \n"
     ]
    }
   ],
   "source": [
    "# Display summary statistics\n",
    "print(\"\\nSummary Statistics:\")\n",
    "print(df.describe())"
   ]
  },
  {
   "cell_type": "code",
   "execution_count": 19,
   "metadata": {},
   "outputs": [],
   "source": [
    "# Select features and target\n",
    "feature_columns = ['4046', '4225', '4770']  # Replace with your feature columns\n",
    "target_column = 'Total Volume'  # Replace with your target column\n",
    "\n",
    "X = df[feature_columns]\n",
    "y = df[target_column]\n",
    "\n",
    "# Split data into training and testing sets\n",
    "test_size = 0.2\n",
    "X_train, X_test, y_train, y_test = train_test_split(X, y, test_size=test_size, random_state=42)"
   ]
  },
  {
   "cell_type": "code",
   "execution_count": 20,
   "metadata": {},
   "outputs": [],
   "source": [
    "# Train a linear regression model\n",
    "model = LinearRegression()\n",
    "model.fit(X_train, y_train)\n",
    "\n",
    "# Make predictions\n",
    "y_pred = model.predict(X_test)"
   ]
  },
  {
   "cell_type": "code",
   "execution_count": 24,
   "metadata": {},
   "outputs": [
    {
     "name": "stdout",
     "output_type": "stream",
     "text": [
      "\n",
      "Model Performance:\n",
      "R² Score: 0.9878\n",
      "MAE: 103346.7689\n",
      "Precision: 0.9767\n",
      "Recall: 0.9397\n"
     ]
    }
   ],
   "source": [
    "# Evaluate the model\n",
    "r2 = r2_score(y_test, y_pred)\n",
    "mae = mean_absolute_error(y_test, y_pred)\n",
    "\n",
    "# For binary classification metrics (assuming target is binary)\n",
    "y_test_binary = y_test > y_test.median()\n",
    "y_pred_binary = y_pred > y_test.median()\n",
    "precision = precision_score(y_test_binary, y_pred_binary)\n",
    "recall = recall_score(y_test_binary, y_pred_binary)\n",
    "\n",
    "print(\"\\nModel Performance:\")\n",
    "print(f\"R² Score: {r2:.4f}\")\n",
    "print(f\"MAE: {mae:.4f}\")\n",
    "print(f\"Precision: {precision:.4f}\")\n",
    "print(f\"Recall: {recall:.4f}\")"
   ]
  },
  {
   "cell_type": "code",
   "execution_count": 25,
   "metadata": {},
   "outputs": [
    {
     "name": "stdout",
     "output_type": "stream",
     "text": [
      "\n",
      "Feature Importance:\n",
      "4046: 1.4373\n",
      "4225: 1.3746\n",
      "4770: 0.2507\n"
     ]
    }
   ],
   "source": [
    "# Display feature importance\n",
    "feature_importance = dict(zip(feature_columns, model.coef_))\n",
    "print(\"\\nFeature Importance:\")\n",
    "for feature, importance in feature_importance.items():\n",
    "    print(f\"{feature}: {importance:.4f}\")"
   ]
  }
 ],
 "metadata": {
  "kernelspec": {
   "display_name": "yugen-LIPvC1Zh-py3.12",
   "language": "python",
   "name": "python3"
  },
  "language_info": {
   "codemirror_mode": {
    "name": "ipython",
    "version": 3
   },
   "file_extension": ".py",
   "mimetype": "text/x-python",
   "name": "python",
   "nbconvert_exporter": "python",
   "pygments_lexer": "ipython3",
   "version": "3.12.2"
  }
 },
 "nbformat": 4,
 "nbformat_minor": 2
}
